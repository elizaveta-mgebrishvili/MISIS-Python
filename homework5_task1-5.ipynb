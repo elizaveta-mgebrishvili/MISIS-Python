{
 "cells": [
  {
   "cell_type": "markdown",
   "id": "0813d1fb",
   "metadata": {},
   "source": [
    "### Задание 1\n",
    "Средний бал и список отстающих учеников"
   ]
  },
  {
   "cell_type": "markdown",
   "id": "33b1017b",
   "metadata": {},
   "source": [
    "##### 1. Запишем данные в файл"
   ]
  },
  {
   "cell_type": "code",
   "execution_count": 3,
   "id": "3a24d446",
   "metadata": {},
   "outputs": [],
   "source": [
    "with open('task4-1.txt', 'w+', encoding='utf-8') as sdnt_performance:\n",
    "    lines = ['Иванов О. 4', 'Петров И. 3', 'Дмитриев Н. 2', 'Смирнова О. 4', 'Керченских В. 5',\n",
    "'Котов Д. 2', 'Бирюкова Н. 1', 'Данилов П. 3', 'Аранских В. 5', 'Лемонов Ю. 2', 'Олегова К. 4']\n",
    "    \n",
    "    for i in lines:\n",
    "        sdnt_performance.writelines(i + '\\n')"
   ]
  },
  {
   "cell_type": "markdown",
   "id": "26ab3f50",
   "metadata": {},
   "source": [
    "##### 2. Проверим, что записалось"
   ]
  },
  {
   "cell_type": "code",
   "execution_count": 4,
   "id": "f96c92ee",
   "metadata": {},
   "outputs": [
    {
     "name": "stdout",
     "output_type": "stream",
     "text": [
      "Иванов О. 4\n",
      "Петров И. 3\n",
      "Дмитриев Н. 2\n",
      "Смирнова О. 4\n",
      "Керченских В. 5\n",
      "Котов Д. 2\n",
      "Бирюкова Н. 1\n",
      "Данилов П. 3\n",
      "Аранских В. 5\n",
      "Лемонов Ю. 2\n",
      "Олегова К. 4\n",
      "\n"
     ]
    }
   ],
   "source": [
    "with open('task4-1.txt', 'r', encoding='utf-8') as sdnt_performance:\n",
    "    sdnt_performance = sdnt_performance.read()\n",
    "    print(sdnt_performance)"
   ]
  },
  {
   "cell_type": "markdown",
   "id": "9a0b1af7",
   "metadata": {},
   "source": [
    "##### 3. Посчитаем медиану оценок учеников, на основе которой выведем список отстающих."
   ]
  },
  {
   "cell_type": "code",
   "execution_count": null,
   "id": "592d7f44",
   "metadata": {},
   "outputs": [],
   "source": [
    "import statistics as st"
   ]
  },
  {
   "cell_type": "code",
   "execution_count": 6,
   "id": "8601b45a",
   "metadata": {
    "scrolled": true
   },
   "outputs": [
    {
     "name": "stdout",
     "output_type": "stream",
     "text": [
      "['Дмитриев Н. 2', 'Котов Д. 2', 'Бирюкова Н. 1', 'Лемонов Ю. 2']\n"
     ]
    }
   ],
   "source": [
    "with open('task4-1.txt', 'r', encoding='utf-8') as text:\n",
    "    sdnt_performance = text.read().split('\\n')[0:-1]\n",
    "    \n",
    "    #запишем в список все оценки учеников\n",
    "    scores = [i[-1] for i in sdnt_performance]\n",
    "    \n",
    "    #посчитаем медиану оценок\n",
    "    scores_median = st.median(scores)\n",
    "    \n",
    "    #создадим список с учениками, чьи оценки ниже среднего\n",
    "    valenki = [i for i in sdnt_performance if i[-1] < scores_median]\n",
    "print(valenki)\n",
    "    "
   ]
  },
  {
   "cell_type": "markdown",
   "id": "2d3a79f3",
   "metadata": {},
   "source": [
    "Если необходимо, можно записать это в файл"
   ]
  },
  {
   "cell_type": "code",
   "execution_count": 7,
   "id": "16b6c964",
   "metadata": {},
   "outputs": [
    {
     "name": "stdout",
     "output_type": "stream",
     "text": [
      "Дмитриев Н. 2\n",
      "Котов Д. 2\n",
      "Бирюкова Н. 1\n",
      "Лемонов Ю. 2\n",
      "\n"
     ]
    }
   ],
   "source": [
    "with open('valenki.txt', 'w+', encoding='utf-8') as text:\n",
    "    for i in valenki:\n",
    "        text.writelines(i + '\\n')\n",
    "\n",
    "with open('valenki.txt', 'r', encoding='utf-8') as text:\n",
    "    v = text.read()\n",
    "print(v)"
   ]
  },
  {
   "cell_type": "markdown",
   "id": "b330966a",
   "metadata": {},
   "source": [
    "### Задание 2\n",
    "Посчитать количество определенных слов в файле"
   ]
  },
  {
   "cell_type": "markdown",
   "id": "9446f004",
   "metadata": {},
   "source": [
    "##### 1. Запишем файл"
   ]
  },
  {
   "cell_type": "code",
   "execution_count": 7,
   "id": "e79d52f7",
   "metadata": {},
   "outputs": [],
   "source": [
    "with open('task4-2.txt', 'w+', encoding='utf-8') as text:\n",
    "    lines = '''Понедельник\n",
    "\tФизика (лекция.)\n",
    "\tФизика (лаб.)\n",
    "\tАлгебра (практ.)\n",
    "Вторник\n",
    "\tГеометрия (лекц.)\n",
    "\tФизика (практ.)\n",
    "\tФизика (лаб.)\n",
    "\tФизкультура (практика.)\n",
    "Среда\n",
    "\tГеометрия (лекц.)\n",
    "\tФизика (практ.)\n",
    "\tАлгебра (практ.)\n",
    "\tФизкультура (практ.)\n",
    "Четверг\n",
    "\tГеометрия (лекц.)\n",
    "\tФизика (практ.)\n",
    "\tАлгебра (практ.)\n",
    "\tФизкультура (практ.)\n",
    "Пятница\n",
    "\tГеометрия (лекц.)\n",
    "\tФизика (прак.)\n",
    "\tАлгебра (практ.)\n",
    "\tХимия (лек.)'''\n",
    "    \n",
    "    text.write(lines)"
   ]
  },
  {
   "cell_type": "markdown",
   "id": "4cff5bfb",
   "metadata": {},
   "source": [
    "##### 2. Проверим файл"
   ]
  },
  {
   "cell_type": "code",
   "execution_count": 8,
   "id": "c92d6fb2",
   "metadata": {},
   "outputs": [
    {
     "name": "stdout",
     "output_type": "stream",
     "text": [
      "Понедельник\n",
      "\tФизика (лекция.)\n",
      "\tФизика (лаб.)\n",
      "\tАлгебра (практ.)\n",
      "Вторник\n",
      "\tГеометрия (лекц.)\n",
      "\tФизика (практ.)\n",
      "\tФизика (лаб.)\n",
      "\tФизкультура (практика.)\n",
      "Среда\n",
      "\tГеометрия (лекц.)\n",
      "\tФизика (практ.)\n",
      "\tАлгебра (практ.)\n",
      "\tФизкультура (практ.)\n",
      "Четверг\n",
      "\tГеометрия (лекц.)\n",
      "\tФизика (практ.)\n",
      "\tАлгебра (практ.)\n",
      "\tФизкультура (практ.)\n",
      "Пятница\n",
      "\tГеометрия (лекц.)\n",
      "\tФизика (прак.)\n",
      "\tАлгебра (практ.)\n",
      "\tХимия (лек.)\n"
     ]
    }
   ],
   "source": [
    "with open('task4-2.txt', 'r', encoding='utf-8') as text:\n",
    "    t = text.read()\n",
    "    print(t)"
   ]
  },
  {
   "cell_type": "markdown",
   "id": "d5604eb7",
   "metadata": {},
   "source": [
    "##### 3. Посчитаем необходимые слова"
   ]
  },
  {
   "cell_type": "code",
   "execution_count": 9,
   "id": "91f499cf",
   "metadata": {},
   "outputs": [
    {
     "name": "stdout",
     "output_type": "stream",
     "text": [
      "Лекций: 6\n",
      "Практических: 11\n",
      "Лабораторных: 2\n"
     ]
    }
   ],
   "source": [
    "with open('task4-2.txt', 'r', encoding='utf-8') as text:\n",
    "    lessons = text.readlines()\n",
    "    \n",
    "#посчитаем количество лекций, практик и лаболаторных в расписании\n",
    "lec = len([i for i in lessons if 'ле' in i])\n",
    "pract = len([i for i in lessons if 'пр' in i])\n",
    "lab = len([i for i in lessons if 'ла' in i])\n",
    "    \n",
    "print('Лекций:', lec)\n",
    "print('Практических:', pract)\n",
    "print('Лабораторных:', lab)\n",
    "    "
   ]
  },
  {
   "cell_type": "markdown",
   "id": "66e6ed4f",
   "metadata": {},
   "source": [
    "### Задание 4\n",
    "Выведите список файлов в указанной директории. например где у вас лежат ваши тетради"
   ]
  },
  {
   "cell_type": "code",
   "execution_count": 17,
   "id": "0353ecd1",
   "metadata": {},
   "outputs": [],
   "source": [
    "import os"
   ]
  },
  {
   "cell_type": "code",
   "execution_count": 21,
   "id": "416c43c7",
   "metadata": {},
   "outputs": [
    {
     "name": "stdout",
     "output_type": "stream",
     "text": [
      "рабочая директория: /home/liza/env\n",
      "папки в директории: ['homework3_task1-4.ipynb', 'task4-2.txt', 'homework2_task1-2.ipynb', 'task5.txt', 'valenki.txt', 'les4.ipynb', 'task4-1.txt', '.ipynb_checkpoints', 'practice_lesson1.ipynb', 'env', 'homework4_task1-10.ipynb', 'homework5_task1-5.ipynb']\n"
     ]
    }
   ],
   "source": [
    "print('рабочая директория:', os.getcwd())\n",
    "print('папки в директории:', os.listdir())"
   ]
  },
  {
   "cell_type": "markdown",
   "id": "688e84b9",
   "metadata": {},
   "source": [
    "### Задание 5\n",
    "Напишите программу, которая принимает текст и выводит два слова: наиболее часто встречающееся и самое длинное."
   ]
  },
  {
   "cell_type": "markdown",
   "id": "0af23a0c",
   "metadata": {},
   "source": [
    "Не знаю, что ожидалось и как лучше было бы решить задачу обработки текста,\n",
    "но совершенно очевидно, чтобы посчитать одинаковые слова нужно решить проблему регистра и знаков препинания.\n",
    "Также тут возникает вопрос --- что считать словом: \"раз\" и \"два\" или \"раз-два\"? \n",
    "(я решила, что раз в тексте не встречаются сложные существительные, то перечислениями и повторами можно пренебречь)\n"
   ]
  },
  {
   "cell_type": "markdown",
   "id": "677c7695",
   "metadata": {},
   "source": [
    "Поэтому было решено использовать функцию translate для осуществления удаления знаков.\n",
    "При чем maketrans не позволяет учитывать только удаление неугодных симовлов, первые две позиции обязательно должны задавать правило для замены, что очень ксати, в тексте вместо тире используется минус, поэтому очень удачно было заменить его на пробел."
   ]
  },
  {
   "cell_type": "markdown",
   "id": "bfda97d0",
   "metadata": {},
   "source": [
    "##### 1. Напишем функцию для подсчета частоты встречи слова"
   ]
  },
  {
   "cell_type": "markdown",
   "id": "0f24e9e4",
   "metadata": {},
   "source": [
    "В дальнейшем эта функция используется только один раз, выделять ее кажется нецелесообразным, но я решила так сделать, чтобы большая функция выглядела менее страшно"
   ]
  },
  {
   "cell_type": "code",
   "execution_count": 3,
   "id": "1ace92f2",
   "metadata": {},
   "outputs": [],
   "source": [
    "def percent(words):\n",
    "    words_percents = []\n",
    "    for i in words:\n",
    "        percent = round(100*words.count(i)/len(words), 2)\n",
    "        words_percents.append(percent)\n",
    "    return words_percents\n",
    "    \n",
    "    "
   ]
  },
  {
   "cell_type": "markdown",
   "id": "b5d72d3a",
   "metadata": {},
   "source": [
    "##### 2. Импортируем библиотеку для работы со строками"
   ]
  },
  {
   "cell_type": "code",
   "execution_count": 4,
   "id": "f6b25e77",
   "metadata": {},
   "outputs": [],
   "source": [
    "import string"
   ]
  },
  {
   "cell_type": "markdown",
   "id": "939cf301",
   "metadata": {},
   "source": [
    "##### 3. Напишем функцию для решения задачи"
   ]
  },
  {
   "cell_type": "code",
   "execution_count": 33,
   "id": "3a160be8",
   "metadata": {},
   "outputs": [],
   "source": [
    "def text_analysis(text):\n",
    "    with open(text, 'r', encoding='utf-8') as text:\n",
    "        t = text.read()\n",
    "        \n",
    "    #обработка текста: проблема регистра и пунктуации    \n",
    "    t = t.lower().translate(t.maketrans('—', ' ', string.punctuation)).split()\n",
    "    \n",
    "    #избавляемся от дубликатов\n",
    "    set_t = set(t)\n",
    "    \n",
    "    #получаем максимальные по длинне слова\n",
    "    longest_word = max(set_t, key = len) #слово с максимальной длинной\n",
    "    longest_words = set([i for i in t if len(i) == len(longest_word)]) #все слова с макс. длинной\n",
    "    \n",
    "    #получаем самые частые слова\n",
    "    words_freq = percent(t) #список частоты встречи слов на основе полного списка, индекс частоты совпадает с индексом слова\n",
    "    max_percent = max(words_freq) #максимальная частота встречи слова\n",
    "    max_freq_words = set([i for i in t if words_freq[t.index(i)] == max_percent]) #список частых слов\n",
    "    \n",
    "    # это просто для красивого вывода........................\n",
    "    lw = ''\n",
    "    for i in longest_words:\n",
    "        lw += i\n",
    "    \n",
    "    mfw = ''\n",
    "    for i in max_freq_words:\n",
    "        mfw += i\n",
    "        \n",
    "    return lw, mfw\n",
    "    "
   ]
  },
  {
   "cell_type": "markdown",
   "id": "4d74e5fa",
   "metadata": {},
   "source": [
    "##### 4. Сохраним необходимый текcт в файл"
   ]
  },
  {
   "cell_type": "code",
   "execution_count": 2,
   "id": "7ffe6051",
   "metadata": {},
   "outputs": [
    {
     "name": "stdout",
     "output_type": "stream",
     "text": [
      "Варкалось. Хливкие шорьки Пырялись по наве, И хрюкотали зелюки, Как мюмзики в мове.\n",
      "\n",
      "О, бойся Бармаглота, сын! Он так свирлеп и дик! А в глу́ше ры́мит исполин — Злопастный Брандашмыг!\n",
      "\n",
      "Но взял он меч, и взял он щит, Высоких полон дум. В глущобу путь его лежит Под дерево Тумтум.\n",
      "\n",
      "Он стал под дерево и ждёт. И вдруг граахнул гром — Летит ужасный Бармаглот И пылкает огнём!\n",
      "\n",
      "Раз-два, раз-два! Горит трава, Взы-взы — стрижает меч, Ува! Ува! И голова Барабардает с плеч!\n",
      "\n",
      "О светозарный мальчик мой! Ты победил в бою! О храброславленный герой, Хвалу тебе пою!\n",
      "\n",
      "Варкалось. Хливкие шорьки Пырялись по наве. И хрюкотали зелюки, Как мюмзики в мове.\n"
     ]
    }
   ],
   "source": [
    "with open('task5.txt', 'w+', encoding='utf-8') as text:\n",
    "    lines = '''Варкалось. Хливкие шорьки Пырялись по наве, И хрюкотали зелюки, Как мюмзики в мове.\n",
    "\n",
    "О, бойся Бармаглота, сын! Он так свирлеп и дик! А в глу́ше ры́мит исполин — Злопастный Брандашмыг!\n",
    "\n",
    "Но взял он меч, и взял он щит, Высоких полон дум. В глущобу путь его лежит Под дерево Тумтум.\n",
    "\n",
    "Он стал под дерево и ждёт. И вдруг граахнул гром — Летит ужасный Бармаглот И пылкает огнём!\n",
    "\n",
    "Раз-два, раз-два! Горит трава, Взы-взы — стрижает меч, Ува! Ува! И голова Барабардает с плеч!\n",
    "\n",
    "О светозарный мальчик мой! Ты победил в бою! О храброславленный герой, Хвалу тебе пою!\n",
    "\n",
    "Варкалось. Хливкие шорьки Пырялись по наве. И хрюкотали зелюки, Как мюмзики в мове.'''\n",
    "    \n",
    "    text.write(lines)\n",
    "\n",
    "with open('task5.txt', 'r', encoding='utf-8') as text:\n",
    "    t = text.read()\n",
    "print(t)"
   ]
  },
  {
   "cell_type": "markdown",
   "id": "fd3f9b3f",
   "metadata": {},
   "source": [
    "##### 5. Результат"
   ]
  },
  {
   "cell_type": "code",
   "execution_count": 34,
   "id": "0f8f52b8",
   "metadata": {},
   "outputs": [
    {
     "name": "stdout",
     "output_type": "stream",
     "text": [
      "Самые длинные слова: храброславленный;\n",
      "Самые частые слова: и.\n"
     ]
    }
   ],
   "source": [
    "result = text_analysis('task5.txt')\n",
    "print(f'Самые длинные слова: {result[0]};\\nСамые частые слова: {result[-1]}.')"
   ]
  },
  {
   "cell_type": "code",
   "execution_count": null,
   "id": "532e8d75",
   "metadata": {},
   "outputs": [],
   "source": []
  }
 ],
 "metadata": {
  "kernelspec": {
   "display_name": "Python 3 (ipykernel)",
   "language": "python",
   "name": "python3"
  },
  "language_info": {
   "codemirror_mode": {
    "name": "ipython",
    "version": 3
   },
   "file_extension": ".py",
   "mimetype": "text/x-python",
   "name": "python",
   "nbconvert_exporter": "python",
   "pygments_lexer": "ipython3",
   "version": "3.9.8"
  }
 },
 "nbformat": 4,
 "nbformat_minor": 5
}
