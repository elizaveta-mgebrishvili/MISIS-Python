{
 "cells": [
  {
   "cell_type": "markdown",
   "id": "0b905514",
   "metadata": {},
   "source": [
    "## Задача 1 Какой месяц"
   ]
  },
  {
   "cell_type": "code",
   "execution_count": 49,
   "id": "a2548169",
   "metadata": {},
   "outputs": [],
   "source": [
    "mounths = ['January', 'February', 'March', 'April','May', \n",
    "           'June', 'July', 'August', 'September', 'October', 'November', 'December']"
   ]
  },
  {
   "cell_type": "code",
   "execution_count": 52,
   "id": "4186202f",
   "metadata": {},
   "outputs": [
    {
     "name": "stdout",
     "output_type": "stream",
     "text": [
      "Enter the mounth number:4\n",
      "April\n"
     ]
    }
   ],
   "source": [
    "while True:\n",
    "    mounth = int(input('Enter the mounth number:'))\n",
    "    \n",
    "    if (mounth < 1) or (mounth > 12):\n",
    "        print('Incorrect mounth number!')\n",
    "    else:\n",
    "        print(mounths[mounth-1])\n",
    "        break"
   ]
  },
  {
   "cell_type": "markdown",
   "id": "fd8b9f0b",
   "metadata": {},
   "source": [
    "## Задача 2 Наибольший общий делитель \n",
    "a=600\n",
    "b=1012"
   ]
  },
  {
   "cell_type": "code",
   "execution_count": 16,
   "id": "ee3b2dfc",
   "metadata": {},
   "outputs": [
    {
     "name": "stdout",
     "output_type": "stream",
     "text": [
      "a =10000\n",
      "b =5\n",
      "5\n"
     ]
    }
   ],
   "source": [
    "a = int(input('a ='))\n",
    "b = int(input('b ='))\n",
    "\n",
    "if (a == 0) or (b == 0):\n",
    "    print('Incorrect value!')\n",
    "else:\n",
    "    while (a != 0) and (b != 0):\n",
    "        if a > b:\n",
    "            a %= b\n",
    "        else:\n",
    "            b %= a\n",
    "    print(a + b)"
   ]
  },
  {
   "cell_type": "markdown",
   "id": "57cf146f",
   "metadata": {},
   "source": [
    "## Задача 3 Проверка расширения файла\n",
    "file='Моя диссертац.gif'\\\n",
    "extensions = ['png', 'jpg', 'jpeg', 'gif', 'svg']"
   ]
  },
  {
   "cell_type": "code",
   "execution_count": 2,
   "id": "7e12e499",
   "metadata": {},
   "outputs": [],
   "source": [
    "extensions = ['png', 'jpg', 'jpeg', 'gif', 'svg']"
   ]
  },
  {
   "cell_type": "code",
   "execution_count": 4,
   "id": "2f80e162",
   "metadata": {},
   "outputs": [
    {
     "name": "stdout",
     "output_type": "stream",
     "text": [
      "Enter the file name:nvjrjnvjn.hfj.gif\n",
      "len = 3 ['nvjrjnvjn', 'hfj', 'gif']\n",
      "Incorrect file!\n"
     ]
    }
   ],
   "source": [
    "extention = input('Enter the file name:').split('.')[-1]\n",
    "\n",
    "if extention not in extensions:\n",
    "    print('Incorrect file!')\n",
    "else:\n",
    "    print('File is okey')"
   ]
  },
  {
   "cell_type": "markdown",
   "id": "845176fb",
   "metadata": {},
   "source": [
    "## Задача 4 Вискосный Год\n",
    "год, номер которого кратен 400, — високосный;\\\n",
    "остальные годы, номер которых кратен 100, — невисокосные;\\\n",
    "остальные годы, номер которых кратен 4, — високосные."
   ]
  },
  {
   "cell_type": "code",
   "execution_count": 77,
   "id": "747b822f",
   "metadata": {},
   "outputs": [
    {
     "name": "stdout",
     "output_type": "stream",
     "text": [
      "Enter the year number:1700\n",
      "not leap\n"
     ]
    }
   ],
   "source": [
    "year = int(input('Enter the year number:'))\n",
    "\n",
    "if (year % 4 == 0) and (year % 100 != 0) or (year % 400 == 0):\n",
    "    print('leap')\n",
    "else:\n",
    "    print('not leap')"
   ]
  }
 ],
 "metadata": {
  "kernelspec": {
   "display_name": "Python 3 (ipykernel)",
   "language": "python",
   "name": "python3"
  },
  "language_info": {
   "codemirror_mode": {
    "name": "ipython",
    "version": 3
   },
   "file_extension": ".py",
   "mimetype": "text/x-python",
   "name": "python",
   "nbconvert_exporter": "python",
   "pygments_lexer": "ipython3",
   "version": "3.9.8"
  }
 },
 "nbformat": 4,
 "nbformat_minor": 5
}
