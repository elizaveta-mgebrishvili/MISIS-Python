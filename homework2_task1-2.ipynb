{
 "cells": [
  {
   "cell_type": "markdown",
   "id": "cfab3b59",
   "metadata": {},
   "source": [
    "### Задание 1:\n",
    "Сделайте так, чтобы число секунд отображалось в виде дни:часы:минуты:секунды."
   ]
  },
  {
   "cell_type": "code",
   "execution_count": 1,
   "id": "73eafa59",
   "metadata": {},
   "outputs": [
    {
     "name": "stdout",
     "output_type": "stream",
     "text": [
      "0:2:46:40\n"
     ]
    }
   ],
   "source": [
    "seconds=10000\n",
    "\n",
    "dd = seconds//(60*60*24)\n",
    "hh = (seconds%(60*60*24))//(60*60)\n",
    "mm = ((seconds%(60*60*24))%(60*60))//60\n",
    "sec = ((seconds%(60*60*24))%(60*60)) % 60\n",
    "\n",
    "print(dd, hh, mm, sec, sep=':')"
   ]
  },
  {
   "cell_type": "markdown",
   "id": "6c9f4bbc",
   "metadata": {},
   "source": [
    "### Задание 2:\n",
    "Напишите калькулятор который:\n",
    "* запрашивает на входе две переменные и знак,\n",
    "* и в соответствии с знаком ( + - * / ) выводит результат"
   ]
  },
  {
   "cell_type": "code",
   "execution_count": 3,
   "id": "3371cc9f",
   "metadata": {},
   "outputs": [
    {
     "name": "stdout",
     "output_type": "stream",
     "text": [
      "Enter the first number:30\n",
      "Enter the second number:5\n",
      "Enter the sign:/\n",
      "6.0\n"
     ]
    }
   ],
   "source": [
    "a = float(input('Enter the first number:'))\n",
    "b = float(input('Enter the second number:'))\n",
    "sign = input('Enter the sign:')\n",
    "\n",
    "if sign == '+':\n",
    "    print(a+b)\n",
    "elif sign == '-':\n",
    "    print(a-b)\n",
    "elif sign == '*':\n",
    "    print(a*b)\n",
    "elif sign == '/':\n",
    "    print(a/b)\n",
    "else:\n",
    "    print('Incorrect math sign!')"
   ]
  },
  {
   "cell_type": "code",
   "execution_count": null,
   "id": "6245f04b",
   "metadata": {},
   "outputs": [],
   "source": []
  }
 ],
 "metadata": {
  "kernelspec": {
   "display_name": "Python 3 (ipykernel)",
   "language": "python",
   "name": "python3"
  },
  "language_info": {
   "codemirror_mode": {
    "name": "ipython",
    "version": 3
   },
   "file_extension": ".py",
   "mimetype": "text/x-python",
   "name": "python",
   "nbconvert_exporter": "python",
   "pygments_lexer": "ipython3",
   "version": "3.9.8"
  }
 },
 "nbformat": 4,
 "nbformat_minor": 5
}
