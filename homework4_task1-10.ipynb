{
 "cells": [
  {
   "cell_type": "markdown",
   "id": "31fe18ee",
   "metadata": {},
   "source": [
    "### Задание 1:\n",
    "Напишите функцию, извлекающую корень n-й степени из числа x. По умолчанию def будет извлекать квадратный корень."
   ]
  },
  {
   "cell_type": "code",
   "execution_count": 47,
   "id": "c1ad4662",
   "metadata": {},
   "outputs": [],
   "source": [
    "def n_sqrt(number, sqrt_degree = 2):\n",
    "    \n",
    "    if (number < 0) and (sqrt_degree%2 == 0):\n",
    "        number = 'impossible........'\n",
    "    else:\n",
    "        number = abs(number)**(1/sqrt_degree)\n",
    "        \n",
    "    return number"
   ]
  },
  {
   "cell_type": "code",
   "execution_count": 48,
   "id": "69f46e62",
   "metadata": {},
   "outputs": [
    {
     "name": "stdout",
     "output_type": "stream",
     "text": [
      "n = 1024\n",
      "d = 10\n",
      "2.0 32.0\n"
     ]
    }
   ],
   "source": [
    "number = float(input('n = '))\n",
    "sqrt_degree = float(input('d = '))\n",
    "\n",
    "print(n_sqrt(number, sqrt_degree), n_sqrt(number))"
   ]
  },
  {
   "cell_type": "markdown",
   "id": "e44a4946",
   "metadata": {},
   "source": [
    "### Задание 2:\n",
    "Перепишите ваш код для проверки расширения из прошлого ДЗ в функцию которая принимает список расширений и имя файла \\\n",
    "\\\n",
    "Так как прошлую функцию я написала с ошибкой, тут мне придется ее несколько модифицировать("
   ]
  },
  {
   "cell_type": "code",
   "execution_count": 7,
   "id": "f3e683d1",
   "metadata": {},
   "outputs": [],
   "source": [
    "def file_name_check(extentions, file_name):\n",
    "    result = ''\n",
    "    \n",
    "    if (file_name[-1] not in extensions) or (len(file_name) <= 1):\n",
    "        result += 'Incorrect file!'\n",
    "    else:\n",
    "        result += 'File is okey'\n",
    "        \n",
    "    return result"
   ]
  },
  {
   "cell_type": "code",
   "execution_count": 8,
   "id": "05f63b5e",
   "metadata": {},
   "outputs": [
    {
     "name": "stdout",
     "output_type": "stream",
     "text": [
      "Enter the file name:fbhrbukr.gif\n",
      "File is okey\n"
     ]
    }
   ],
   "source": [
    "extensions = ['png', 'jpg', 'jpeg', 'gif', 'svg']\n",
    "extention = input('Enter the file name:').split('.')\n",
    "\n",
    "print(file_name_check(extensions, extention))"
   ]
  },
  {
   "cell_type": "markdown",
   "id": "8488acf1",
   "metadata": {},
   "source": [
    "### Задание 3:\n",
    "Слейте воедино три словаря"
   ]
  },
  {
   "cell_type": "code",
   "execution_count": 41,
   "id": "eb225321",
   "metadata": {},
   "outputs": [],
   "source": [
    "dict_a = {1:10, 2:20}\n",
    "dict_b = {3:30, 4:40}\n",
    "dict_c = {5:50, 6:60}"
   ]
  },
  {
   "cell_type": "code",
   "execution_count": 42,
   "id": "3c336769",
   "metadata": {},
   "outputs": [
    {
     "name": "stdout",
     "output_type": "stream",
     "text": [
      "{1: 10, 2: 20, 3: 30, 4: 40, 5: 50, 6: 60}\n"
     ]
    }
   ],
   "source": [
    "dict_r = {**dict_a, **dict_b, **dict_c}\n",
    "print(dict_r)"
   ]
  },
  {
   "cell_type": "markdown",
   "id": "b9a0de65",
   "metadata": {},
   "source": [
    "### Задание 4:\n",
    "Напишите функцию которая будет складывать цифры внутри числа"
   ]
  },
  {
   "cell_type": "code",
   "execution_count": 1,
   "id": "e607ffbf",
   "metadata": {},
   "outputs": [],
   "source": [
    "def sum_from_list(number):\n",
    "    sum = int()\n",
    "    \n",
    "    for i in number:\n",
    "        sum += int(i)\n",
    "        \n",
    "    return sum\n",
    "\n",
    "def sum_from_int(number):\n",
    "    sum = int()\n",
    "    \n",
    "    while number > 0:\n",
    "        i = number % 10\n",
    "        sum += i\n",
    "        \n",
    "    return sum"
   ]
  },
  {
   "cell_type": "code",
   "execution_count": 2,
   "id": "ad4153e6",
   "metadata": {},
   "outputs": [
    {
     "name": "stdout",
     "output_type": "stream",
     "text": [
      "Enter the number:44444444444444444444444444444444444\n",
      "CPU times: user 2 µs, sys: 1 µs, total: 3 µs\n",
      "Wall time: 5.96 µs\n",
      "140\n"
     ]
    }
   ],
   "source": [
    "number = input('Enter the number:')\n",
    "%time\n",
    "print(sum_from_list(number))"
   ]
  },
  {
   "cell_type": "code",
   "execution_count": null,
   "id": "197e34b6",
   "metadata": {},
   "outputs": [
    {
     "name": "stdout",
     "output_type": "stream",
     "text": [
      "Enter the number:44444444444444444444444444444444444\n",
      "CPU times: user 2 µs, sys: 0 ns, total: 2 µs\n",
      "Wall time: 5.72 µs\n"
     ]
    }
   ],
   "source": [
    "number = int(input('Enter the number:'))\n",
    "%time\n",
    "print(sum_from_int(number))"
   ]
  },
  {
   "cell_type": "markdown",
   "id": "7c9c28d8",
   "metadata": {},
   "source": [
    "### Задание 5:\n",
    "Нужно проверить, все ли числа в последовательности уникальны."
   ]
  },
  {
   "cell_type": "code",
   "execution_count": 3,
   "id": "994fa31d",
   "metadata": {},
   "outputs": [
    {
     "name": "stdout",
     "output_type": "stream",
     "text": [
      "The digits are repeated\n"
     ]
    }
   ],
   "source": [
    "numbers=[1, 4, 4, 5]\n",
    "set_numbers = set(numbers)\n",
    "\n",
    "if len(numbers) == len(set_numbers):\n",
    "    print('All number digits are unique')\n",
    "else:\n",
    "    print('The digits are repeated')\n"
   ]
  },
  {
   "cell_type": "markdown",
   "id": "34911053",
   "metadata": {},
   "source": [
    "### Задание 6:\n",
    "Создать функцию, которая просто печатает все элементы заданного ей списка"
   ]
  },
  {
   "cell_type": "code",
   "execution_count": 40,
   "id": "9f8f6684",
   "metadata": {},
   "outputs": [],
   "source": [
    "def print_list(my_list):\n",
    "    \n",
    "    for i in my_list:\n",
    "        print(f'номер {my_list.index(i)} --> {i}')\n"
   ]
  },
  {
   "cell_type": "code",
   "execution_count": 25,
   "id": "0bc0fd46",
   "metadata": {},
   "outputs": [
    {
     "name": "stdout",
     "output_type": "stream",
     "text": [
      "номер 0 --> я\n",
      "номер 1 --> не\n",
      "номер 2 --> в\n",
      "номер 3 --> отпуск\n"
     ]
    }
   ],
   "source": [
    "print_list([\"я\", \"не\", \"в\", \"отпуск\" ])"
   ]
  },
  {
   "cell_type": "markdown",
   "id": "999c9335",
   "metadata": {},
   "source": [
    "### Задание 7:\n",
    "Создать функцию, которая печатает каждый элемент словарика"
   ]
  },
  {
   "cell_type": "code",
   "execution_count": 39,
   "id": "6202de77",
   "metadata": {},
   "outputs": [],
   "source": [
    "def print_dict(my_dict):\n",
    "    \n",
    "    for i in my_dict.items():\n",
    "        print(f'ключ \"{i[0]}\" --> {i[1]}')\n",
    "        "
   ]
  },
  {
   "cell_type": "code",
   "execution_count": 28,
   "id": "1202b57c",
   "metadata": {},
   "outputs": [
    {
     "name": "stdout",
     "output_type": "stream",
     "text": [
      "ключ \"key1\" --> 2\n",
      "ключ \"key3\" --> False\n",
      "ключ \"Приветствие\" --> Hello\n"
     ]
    }
   ],
   "source": [
    "print_dict({\"key1\": 2, \"key3\": False, \"Приветствие\": \"Hello\"})"
   ]
  },
  {
   "cell_type": "markdown",
   "id": "f855ac34",
   "metadata": {},
   "source": [
    "### Задание 8:\n",
    "Сделать функцию, которая использует две уже написанные функции следующим образом:\\\n",
    "\\\n",
    "если ЗНАЧЕНИЕ это LIST --> вызывается print_list\\\n",
    "если ЗНАЧЕНИЕ это DICT --> вызывается print_dict\\\n",
    "во всех других случаях просто выводится ЗНАЧЕНИЕ"
   ]
  },
  {
   "cell_type": "code",
   "execution_count": 41,
   "id": "76084930",
   "metadata": {},
   "outputs": [],
   "source": [
    "def print_overlord(mydict):\n",
    "    \n",
    "    for i in mydict.items():\n",
    "        \n",
    "        if isinstance(i[1], dict):\n",
    "            print_dict(i[1])\n",
    "            \n",
    "        elif isinstance(i[1], list):\n",
    "            print_list(i[1])\n",
    "            \n",
    "        else:\n",
    "            print(f'значение: {i[1]}')"
   ]
  },
  {
   "cell_type": "code",
   "execution_count": 42,
   "id": "121202d0",
   "metadata": {},
   "outputs": [
    {
     "name": "stdout",
     "output_type": "stream",
     "text": [
      "значение: 1\n",
      "номер 0 --> 1\n",
      "номер 1 --> 2\n",
      "номер 2 --> 3\n",
      "номер 3 --> 4\n",
      "значение: Hello\n",
      "ключ \"ciao\" --> Mondo\n",
      "ключ \"Привет\" --> О дивный мир\n"
     ]
    }
   ],
   "source": [
    "d = dict(key1=1, key2=[1, 2, 3, 4], \n",
    "            key3='Hello', \n",
    "            key4={\"ciao\":\"Mondo\", \"Привет\": \"О дивный мир\"})\n",
    "\n",
    "print_overlord(d)\n"
   ]
  },
  {
   "cell_type": "markdown",
   "id": "c09a1463",
   "metadata": {},
   "source": [
    "### Задание 9*:\n",
    "Сделать функцию, которая на вход получает фразу и печатает все отдельные слова из этой фразы."
   ]
  },
  {
   "cell_type": "code",
   "execution_count": 10,
   "id": "b7f5167a",
   "metadata": {},
   "outputs": [],
   "source": [
    "def word_count(phrase):\n",
    "    words = set(phrase.split(' '))\n",
    "    \n",
    "    for i in words:\n",
    "        print(i)"
   ]
  },
  {
   "cell_type": "code",
   "execution_count": 11,
   "id": "82c8b643",
   "metadata": {},
   "outputs": [
    {
     "name": "stdout",
     "output_type": "stream",
     "text": [
      "распечатать\n",
      "ещё\n",
      "с\n",
      "по\n",
      "их\n",
      "посчитать\n",
      "на\n",
      "фраза\n",
      "Тут\n",
      "хочу\n",
      "одному\n",
      "пробелами\n",
      "я\n",
      "строку\n",
      "слова\n",
      "и\n"
     ]
    }
   ],
   "source": [
    "word_count(\"Тут фраза с пробелами и я хочу их распечатать по одному на строку и ещё посчитать слова\")"
   ]
  },
  {
   "cell_type": "markdown",
   "id": "f2782303",
   "metadata": {},
   "source": [
    "### Задание 10*:\n",
    "Модифицировать функцию из предыдущего задания так, чтобы она считала \"вес\" каждого слова, выводя в процентное соотношение во фразе для каждого слова. Проценты печатать с точностью до 2 знаков после запятой."
   ]
  },
  {
   "cell_type": "code",
   "execution_count": 8,
   "id": "c1b26f6b",
   "metadata": {},
   "outputs": [],
   "source": [
    "def word_count_percent(phrase):\n",
    "    words = phrase.split(' ')\n",
    "    words_set = set(words)\n",
    "    \n",
    "    for i in words_set:\n",
    "        percent = round(100*words.count(i)/len(words), 2)\n",
    "        print(f'''The word \"{i}\" is {percent}% of all phrase's words''')"
   ]
  },
  {
   "cell_type": "code",
   "execution_count": 9,
   "id": "d2cd0ed8",
   "metadata": {},
   "outputs": [
    {
     "name": "stdout",
     "output_type": "stream",
     "text": [
      "The word \"распечатать\" is 5.88% of all phrase words\n",
      "The word \"ещё\" is 5.88% of all phrase words\n",
      "The word \"с\" is 5.88% of all phrase words\n",
      "The word \"по\" is 5.88% of all phrase words\n",
      "The word \"их\" is 5.88% of all phrase words\n",
      "The word \"посчитать\" is 5.88% of all phrase words\n",
      "The word \"на\" is 5.88% of all phrase words\n",
      "The word \"фраза\" is 5.88% of all phrase words\n",
      "The word \"Тут\" is 5.88% of all phrase words\n",
      "The word \"хочу\" is 5.88% of all phrase words\n",
      "The word \"одному\" is 5.88% of all phrase words\n",
      "The word \"пробелами\" is 5.88% of all phrase words\n",
      "The word \"я\" is 5.88% of all phrase words\n",
      "The word \"строку\" is 5.88% of all phrase words\n",
      "The word \"слова\" is 5.88% of all phrase words\n",
      "The word \"и\" is 11.76% of all phrase words\n"
     ]
    }
   ],
   "source": [
    "word_count_percent(\"Тут фраза с пробелами и я хочу их распечатать по одному на строку и ещё посчитать слова\")"
   ]
  },
  {
   "cell_type": "code",
   "execution_count": null,
   "id": "4ecfc57d",
   "metadata": {},
   "outputs": [],
   "source": []
  }
 ],
 "metadata": {
  "kernelspec": {
   "display_name": "Python 3 (ipykernel)",
   "language": "python",
   "name": "python3"
  },
  "language_info": {
   "codemirror_mode": {
    "name": "ipython",
    "version": 3
   },
   "file_extension": ".py",
   "mimetype": "text/x-python",
   "name": "python",
   "nbconvert_exporter": "python",
   "pygments_lexer": "ipython3",
   "version": "3.9.8"
  }
 },
 "nbformat": 4,
 "nbformat_minor": 5
}
