{
 "cells": [
  {
   "cell_type": "markdown",
   "id": "185775be",
   "metadata": {},
   "source": [
    "### Задание 1:\n",
    "Напишите функцию, извлекающую корень n-й степени из числа x. По умолчанию def будет извлекать квадратный корень."
   ]
  },
  {
   "cell_type": "code",
   "execution_count": 47,
   "id": "56a6146c",
   "metadata": {},
   "outputs": [],
   "source": [
    "def n_sqrt(number, sqrt_degree = 2):\n",
    "    \n",
    "    if (number < 0) and (sqrt_degree%2 == 0):\n",
    "        number = 'impossible........'\n",
    "    else:\n",
    "        number = abs(number)**(1/sqrt_degree)\n",
    "        \n",
    "    return number"
   ]
  },
  {
   "cell_type": "code",
   "execution_count": 48,
   "id": "ea0e4317",
   "metadata": {},
   "outputs": [
    {
     "name": "stdout",
     "output_type": "stream",
     "text": [
      "n = 1024\n",
      "d = 10\n",
      "2.0 32.0\n"
     ]
    }
   ],
   "source": [
    "number = float(input('n = '))\n",
    "sqrt_degree = float(input('d = '))\n",
    "\n",
    "print(n_sqrt(number, sqrt_degree), n_sqrt(number))"
   ]
  },
  {
   "cell_type": "markdown",
   "id": "d1d13735",
   "metadata": {},
   "source": [
    "### Задание 2:\n",
    "Перепишите ваш код для проверки расширения из прошлого ДЗ в функцию которая принимает список расширений и имя файла \\\n",
    "\\\n",
    "Так как прошлую функцию я написала с ошибкой, тут мне придется ее несколько модифицировать("
   ]
  },
  {
   "cell_type": "code",
   "execution_count": 7,
   "id": "7f09502e",
   "metadata": {},
   "outputs": [],
   "source": [
    "def file_name_check(extentions, file_name):\n",
    "    result = ''\n",
    "    \n",
    "    if (file_name[-1] not in extensions) or (len(file_name) <= 1):\n",
    "        result += 'Incorrect file!'\n",
    "    else:\n",
    "        result += 'File is okey'\n",
    "        \n",
    "    return result"
   ]
  },
  {
   "cell_type": "code",
   "execution_count": 8,
   "id": "821a7b98",
   "metadata": {},
   "outputs": [
    {
     "name": "stdout",
     "output_type": "stream",
     "text": [
      "Enter the file name:fbhrbukr.gif\n",
      "File is okey\n"
     ]
    }
   ],
   "source": [
    "extensions = ['png', 'jpg', 'jpeg', 'gif', 'svg']\n",
    "extention = input('Enter the file name:').split('.')\n",
    "\n",
    "print(file_name_check(extensions, extention))"
   ]
  },
  {
   "cell_type": "markdown",
   "id": "dfa2e789",
   "metadata": {},
   "source": [
    "### Задание 3:\n",
    "Слейте воедино три словаря"
   ]
  },
  {
   "cell_type": "code",
   "execution_count": 41,
   "id": "86641b58",
   "metadata": {},
   "outputs": [],
   "source": [
    "dict_a = {1:10, 2:20}\n",
    "dict_b = {3:30, 4:40}\n",
    "dict_c = {5:50, 6:60}"
   ]
  },
  {
   "cell_type": "code",
   "execution_count": 42,
   "id": "9d81894f",
   "metadata": {},
   "outputs": [
    {
     "name": "stdout",
     "output_type": "stream",
     "text": [
      "{1: 10, 2: 20, 3: 30, 4: 40, 5: 50, 6: 60}\n"
     ]
    }
   ],
   "source": [
    "dict_r = {**dict_a, **dict_b, **dict_c}\n",
    "print(dict_r)"
   ]
  },
  {
   "cell_type": "markdown",
   "id": "09293cf4",
   "metadata": {},
   "source": [
    "### Задание 4:\n",
    "Напишите функцию которая будет складывать цифры внутри числа"
   ]
  },
  {
   "cell_type": "code",
   "execution_count": 1,
   "id": "7946c289",
   "metadata": {},
   "outputs": [],
   "source": [
    "def sum_from_list(number):\n",
    "    sum = int()\n",
    "    \n",
    "    for i in number:\n",
    "        sum += int(i)\n",
    "        \n",
    "    return sum\n",
    "\n",
    "def sum_from_int(number):\n",
    "    sum = int()\n",
    "    \n",
    "    while number > 0:\n",
    "        i = number % 10\n",
    "        sum += i\n",
    "        \n",
    "    return sum"
   ]
  },
  {
   "cell_type": "code",
   "execution_count": 2,
   "id": "bb897ca5",
   "metadata": {},
   "outputs": [
    {
     "name": "stdout",
     "output_type": "stream",
     "text": [
      "Enter the number:44444444444444444444444444444444444\n",
      "CPU times: user 2 µs, sys: 1 µs, total: 3 µs\n",
      "Wall time: 5.96 µs\n",
      "140\n"
     ]
    }
   ],
   "source": [
    "number = input('Enter the number:')\n",
    "%time\n",
    "print(sum_from_list(number))"
   ]
  },
  {
   "cell_type": "code",
   "execution_count": null,
   "id": "b63265ed",
   "metadata": {},
   "outputs": [
    {
     "name": "stdout",
     "output_type": "stream",
     "text": [
      "Enter the number:44444444444444444444444444444444444\n",
      "CPU times: user 2 µs, sys: 0 ns, total: 2 µs\n",
      "Wall time: 5.72 µs\n"
     ]
    }
   ],
   "source": [
    "number = int(input('Enter the number:'))\n",
    "%time\n",
    "print(sum_from_int(number))"
   ]
  },
  {
   "cell_type": "markdown",
   "id": "1937fc90",
   "metadata": {},
   "source": [
    "### Задание 5:\n",
    "Нужно проверить, все ли числа в последовательности уникальны."
   ]
  },
  {
   "cell_type": "code",
   "execution_count": 3,
   "id": "47ebed7e",
   "metadata": {},
   "outputs": [
    {
     "name": "stdout",
     "output_type": "stream",
     "text": [
      "The digits are repeated\n"
     ]
    }
   ],
   "source": [
    "numbers=[1, 4, 4, 5]\n",
    "set_numbers = set(numbers)\n",
    "\n",
    "if len(numbers) == len(set_numbers):\n",
    "    print('All number digits are unique')\n",
    "else:\n",
    "    print('The digits are repeated')\n"
   ]
  },
  {
   "cell_type": "markdown",
   "id": "f83236dd",
   "metadata": {},
   "source": [
    "### Задание 6:\n",
    "Создать функцию, которая просто печатает все элементы заданного ей списка"
   ]
  },
  {
   "cell_type": "code",
   "execution_count": 1,
   "id": "63b1f857",
   "metadata": {},
   "outputs": [],
   "source": [
    "def print_list(my_list):\n",
    "    \n",
    "    for i in my_list:\n",
    "        print(f'номер {my_list.index(i)} --> {i}')\n"
   ]
  },
  {
   "cell_type": "code",
   "execution_count": 25,
   "id": "7dc7ba8d",
   "metadata": {},
   "outputs": [
    {
     "name": "stdout",
     "output_type": "stream",
     "text": [
      "номер 0 --> я\n",
      "номер 1 --> не\n",
      "номер 2 --> в\n",
      "номер 3 --> отпуск\n"
     ]
    }
   ],
   "source": [
    "print_list([\"я\", \"не\", \"в\", \"отпуск\" ])"
   ]
  },
  {
   "cell_type": "markdown",
   "id": "cb87876e",
   "metadata": {},
   "source": [
    "### Задание 7:\n",
    "Создать функцию, которая печатает каждый элемент словарика"
   ]
  },
  {
   "cell_type": "code",
   "execution_count": 2,
   "id": "92206360",
   "metadata": {},
   "outputs": [],
   "source": [
    "def print_dict(my_dict):\n",
    "    \n",
    "    for i in my_dict.items():\n",
    "        print(f'ключ \"{i[0]}\" --> {i[1]}')\n",
    "        "
   ]
  },
  {
   "cell_type": "code",
   "execution_count": 28,
   "id": "57ece577",
   "metadata": {},
   "outputs": [
    {
     "name": "stdout",
     "output_type": "stream",
     "text": [
      "ключ \"key1\" --> 2\n",
      "ключ \"key3\" --> False\n",
      "ключ \"Приветствие\" --> Hello\n"
     ]
    }
   ],
   "source": [
    "print_dict({\"key1\": 2, \"key3\": False, \"Приветствие\": \"Hello\"})"
   ]
  },
  {
   "cell_type": "markdown",
   "id": "f1d6b31c",
   "metadata": {},
   "source": [
    "### Задание 8:\n",
    "Сделать функцию, которая использует две уже написанные функции следующим образом:\\\n",
    "\\\n",
    "если ЗНАЧЕНИЕ это LIST --> вызывается print_list\\\n",
    "если ЗНАЧЕНИЕ это DICT --> вызывается print_dict\\\n",
    "во всех других случаях просто выводится ЗНАЧЕНИЕ"
   ]
  },
  {
   "cell_type": "code",
   "execution_count": 23,
   "id": "b013c2bf",
   "metadata": {},
   "outputs": [],
   "source": [
    "def print_overlord(mydict):\n",
    "    \n",
    "    for i in d.items():\n",
    "        \n",
    "        if isinstance(i[1], dict):\n",
    "            print_dict(i[1])\n",
    "            \n",
    "        elif isinstance(i[1], list):\n",
    "            print_list(i[1])\n",
    "            \n",
    "        else:\n",
    "            print(f'значение: {i[1]}')"
   ]
  },
  {
   "cell_type": "code",
   "execution_count": 24,
   "id": "2e30d935",
   "metadata": {},
   "outputs": [
    {
     "name": "stdout",
     "output_type": "stream",
     "text": [
      "значение: 1\n",
      "номер 0 --> 1\n",
      "номер 1 --> 2\n",
      "номер 2 --> 3\n",
      "номер 3 --> 4\n",
      "значение: Hello\n",
      "ключ \"ciao\" --> Mondo\n",
      "ключ \"Привет\" --> О дивный мир\n"
     ]
    }
   ],
   "source": [
    "d = dict(key1=1, key2=[1, 2, 3, 4], \n",
    "            key3='Hello', \n",
    "            key4={\"ciao\":\"Mondo\", \"Привет\": \"О дивный мир\"})\n",
    "\n",
    "print_overlord(d)\n"
   ]
  },
  {
   "cell_type": "markdown",
   "id": "e532cb96",
   "metadata": {},
   "source": [
    "### Задание 9*:\n",
    "Сделать функцию, которая на вход получает фразу и печатает все отдельные слова из этой фразы."
   ]
  },
  {
   "cell_type": "code",
   "execution_count": 28,
   "id": "de6ec18a",
   "metadata": {},
   "outputs": [],
   "source": [
    "def word_count(phrase):\n",
    "    words = phrase.split(' ')\n",
    "    \n",
    "    for i in words:\n",
    "        print(i)"
   ]
  },
  {
   "cell_type": "code",
   "execution_count": 29,
   "id": "cc3d17ae",
   "metadata": {},
   "outputs": [
    {
     "name": "stdout",
     "output_type": "stream",
     "text": [
      "Тут\n",
      "фраза\n",
      "с\n",
      "пробелами\n",
      "и\n",
      "я\n",
      "хочу\n",
      "их\n",
      "распечатать\n",
      "по\n",
      "одному\n",
      "на\n",
      "строку\n",
      "и\n",
      "ещё\n",
      "посчитать\n",
      "слова\n"
     ]
    }
   ],
   "source": [
    "word_count(\"Тут фраза с пробелами и я хочу их распечатать по одному на строку и ещё посчитать слова\")"
   ]
  },
  {
   "cell_type": "markdown",
   "id": "4ca4a4d2",
   "metadata": {},
   "source": [
    "### Задание 10*:\n",
    "Модифицировать функцию из предыдущего задания так, чтобы она считала \"вес\" каждого слова, выводя в процентное соотношение во фразе для каждого слова. Проценты печатать с точностью до 2 знаков после запятой."
   ]
  },
  {
   "cell_type": "code",
   "execution_count": 35,
   "id": "959b08c9",
   "metadata": {},
   "outputs": [],
   "source": [
    "def word_count_percent(phrase):\n",
    "    words = phrase.split(' ')\n",
    "    \n",
    "    for i in words:\n",
    "        percent = round(100*len(i)/len(phrase), 2)\n",
    "        print(f'The word \"{i}\" is {percent}% of all phrase symbols')"
   ]
  },
  {
   "cell_type": "code",
   "execution_count": 36,
   "id": "32acea6f",
   "metadata": {},
   "outputs": [
    {
     "name": "stdout",
     "output_type": "stream",
     "text": [
      "The word \"Тут\" is 3.45% of all phrase symbols without spaces\n",
      "The word \"фраза\" is 5.75% of all phrase symbols without spaces\n",
      "The word \"с\" is 1.15% of all phrase symbols without spaces\n",
      "The word \"пробелами\" is 10.34% of all phrase symbols without spaces\n",
      "The word \"и\" is 1.15% of all phrase symbols without spaces\n",
      "The word \"я\" is 1.15% of all phrase symbols without spaces\n",
      "The word \"хочу\" is 4.6% of all phrase symbols without spaces\n",
      "The word \"их\" is 2.3% of all phrase symbols without spaces\n",
      "The word \"распечатать\" is 12.64% of all phrase symbols without spaces\n",
      "The word \"по\" is 2.3% of all phrase symbols without spaces\n",
      "The word \"одному\" is 6.9% of all phrase symbols without spaces\n",
      "The word \"на\" is 2.3% of all phrase symbols without spaces\n",
      "The word \"строку\" is 6.9% of all phrase symbols without spaces\n",
      "The word \"и\" is 1.15% of all phrase symbols without spaces\n",
      "The word \"ещё\" is 3.45% of all phrase symbols without spaces\n",
      "The word \"посчитать\" is 10.34% of all phrase symbols without spaces\n",
      "The word \"слова\" is 5.75% of all phrase symbols without spaces\n"
     ]
    }
   ],
   "source": [
    "word_count_percent(\"Тут фраза с пробелами и я хочу их распечатать по одному на строку и ещё посчитать слова\")"
   ]
  }
 ],
 "metadata": {
  "kernelspec": {
   "display_name": "Python 3 (ipykernel)",
   "language": "python",
   "name": "python3"
  },
  "language_info": {
   "codemirror_mode": {
    "name": "ipython",
    "version": 3
   },
   "file_extension": ".py",
   "mimetype": "text/x-python",
   "name": "python",
   "nbconvert_exporter": "python",
   "pygments_lexer": "ipython3",
   "version": "3.9.8"
  }
 },
 "nbformat": 4,
 "nbformat_minor": 5
}
