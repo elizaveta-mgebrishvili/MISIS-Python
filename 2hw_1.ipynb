{
 "cells": [
  {
   "cell_type": "markdown",
   "id": "c90745e6",
   "metadata": {},
   "source": [
    "### Задача 1 Связанные списки\n",
    "Напишите функцию (пусть она будет называться **reverse_linked_list**), которая разворачивает связный список. На вход она принимает головную ноду, а на выход отдаёт хвостовую ноду исходного списка, но только теперь если попробовать пройтись по ней, она будет новой головной. "
   ]
  },
  {
   "cell_type": "code",
   "execution_count": 1,
   "id": "371d99e0",
   "metadata": {},
   "outputs": [],
   "source": [
    "class Node(object):\n",
    "    def __init__(self, value=None, next_node=None):\n",
    "        self.value = value\n",
    "        self.next = next_node\n",
    "\n",
    "    def __str__(self):\n",
    "        return f\"[Node with value {self.value}]\"\n",
    "\n",
    "def print_linked_list(head):\n",
    "    cur = head\n",
    "    while cur is not None:\n",
    "        print(cur)\n",
    "        cur = cur.next"
   ]
  },
  {
   "cell_type": "code",
   "execution_count": 2,
   "id": "94be97cb",
   "metadata": {},
   "outputs": [],
   "source": [
    "def reverse_linked_list(head):\n",
    "    cur = head\n",
    "    new = None\n",
    "    while cur is not None:\n",
    "        new = Node(cur.value, new)\n",
    "        cur = cur.next\n",
    "    return new"
   ]
  },
  {
   "cell_type": "code",
   "execution_count": 3,
   "id": "7435282a",
   "metadata": {},
   "outputs": [],
   "source": [
    "h, a, b, c, d = Node(7), Node(2), Node(3), Node(6), Node(5)\n",
    "\n",
    "h.next = a\n",
    "a.next = b\n",
    "b.next = c\n",
    "c.next = d"
   ]
  },
  {
   "cell_type": "code",
   "execution_count": 4,
   "id": "29257fb4",
   "metadata": {},
   "outputs": [
    {
     "name": "stdout",
     "output_type": "stream",
     "text": [
      "[Node with value 7]\n",
      "[Node with value 2]\n",
      "[Node with value 3]\n",
      "[Node with value 6]\n",
      "[Node with value 5]\n",
      "---\n",
      "[Node with value 5]\n",
      "[Node with value 6]\n",
      "[Node with value 3]\n",
      "[Node with value 2]\n",
      "[Node with value 7]\n"
     ]
    }
   ],
   "source": [
    "print_linked_list(h)\n",
    "h = reverse_linked_list(h)\n",
    "print(\"---\")\n",
    "print_linked_list(h)"
   ]
  },
  {
   "cell_type": "markdown",
   "id": "3511c0c6",
   "metadata": {},
   "source": [
    "### Задача 2 Пузырьки\n",
    "Сортировка пузырьком.\n",
    "Вам предлагается написать функцию, которая будет на вход получать голову несортированного связного списка, а на выход возвращать голову отсортированного."
   ]
  },
  {
   "cell_type": "markdown",
   "id": "891de3ca",
   "metadata": {},
   "source": [
    "Пример реализации сортировки пузырьком:"
   ]
  },
  {
   "cell_type": "code",
   "execution_count": 5,
   "id": "9fe70039",
   "metadata": {},
   "outputs": [
    {
     "name": "stdout",
     "output_type": "stream",
     "text": [
      "[0, 1, 1, 2, 2, 4]\n"
     ]
    }
   ],
   "source": [
    "l = [2, 4, 1, 1, 2, 0]\n",
    "\n",
    "for i in range(len(l)):\n",
    "    for j in range(i, len(l)):\n",
    "        if l[i] > l[j]:\n",
    "            l[i], l[j] = l[j], l[i]\n",
    "\n",
    "print(l)"
   ]
  },
  {
   "cell_type": "markdown",
   "id": "4e414cfd",
   "metadata": {},
   "source": [
    "Решение:"
   ]
  },
  {
   "cell_type": "code",
   "execution_count": 6,
   "id": "c96086e2",
   "metadata": {},
   "outputs": [],
   "source": [
    "def next_node(head, cur):\n",
    "    head2 = head\n",
    "    while head2 is not None:\n",
    "        if cur > head2.value:\n",
    "            cur, head2.value = head2.value, cur\n",
    "        head2 = head2.next\n",
    "    return cur\n",
    "\n",
    "def bubble_sort(head):\n",
    "    cur = head\n",
    "    while cur is not None:\n",
    "        cur.value = next_node(cur.next, cur.value)\n",
    "        cur = cur.next"
   ]
  },
  {
   "cell_type": "code",
   "execution_count": 7,
   "id": "6e3f2676",
   "metadata": {},
   "outputs": [
    {
     "name": "stdout",
     "output_type": "stream",
     "text": [
      "[Node with value 5]\n",
      "[Node with value 6]\n",
      "[Node with value 3]\n",
      "[Node with value 2]\n",
      "[Node with value 7]\n",
      "\n",
      "[Node with value 2]\n",
      "[Node with value 3]\n",
      "[Node with value 5]\n",
      "[Node with value 6]\n",
      "[Node with value 7]\n"
     ]
    }
   ],
   "source": [
    "print_linked_list(h)\n",
    "bubble_sort(h)\n",
    "print()\n",
    "print_linked_list(h)"
   ]
  },
  {
   "cell_type": "markdown",
   "id": "6485dd82",
   "metadata": {},
   "source": [
    "### Задание 3 "
   ]
  },
  {
   "cell_type": "markdown",
   "id": "922e16c5",
   "metadata": {},
   "source": [
    "**1)** Выясните, сколько в среднем выходил полный счёт по пятницам на ланч у курящих мужчин (датасет tips)"
   ]
  },
  {
   "cell_type": "code",
   "execution_count": 8,
   "id": "e68a59ab",
   "metadata": {},
   "outputs": [
    {
     "data": {
      "text/html": [
       "<div>\n",
       "<style scoped>\n",
       "    .dataframe tbody tr th:only-of-type {\n",
       "        vertical-align: middle;\n",
       "    }\n",
       "\n",
       "    .dataframe tbody tr th {\n",
       "        vertical-align: top;\n",
       "    }\n",
       "\n",
       "    .dataframe thead th {\n",
       "        text-align: right;\n",
       "    }\n",
       "</style>\n",
       "<table border=\"1\" class=\"dataframe\">\n",
       "  <thead>\n",
       "    <tr style=\"text-align: right;\">\n",
       "      <th></th>\n",
       "      <th>total_bill</th>\n",
       "      <th>tip</th>\n",
       "      <th>sex</th>\n",
       "      <th>smoker</th>\n",
       "      <th>day</th>\n",
       "      <th>time</th>\n",
       "      <th>size</th>\n",
       "    </tr>\n",
       "  </thead>\n",
       "  <tbody>\n",
       "    <tr>\n",
       "      <th>0</th>\n",
       "      <td>16.99</td>\n",
       "      <td>1.01</td>\n",
       "      <td>Female</td>\n",
       "      <td>No</td>\n",
       "      <td>Sun</td>\n",
       "      <td>Dinner</td>\n",
       "      <td>2</td>\n",
       "    </tr>\n",
       "    <tr>\n",
       "      <th>1</th>\n",
       "      <td>10.34</td>\n",
       "      <td>1.66</td>\n",
       "      <td>Male</td>\n",
       "      <td>No</td>\n",
       "      <td>Sun</td>\n",
       "      <td>Dinner</td>\n",
       "      <td>3</td>\n",
       "    </tr>\n",
       "    <tr>\n",
       "      <th>2</th>\n",
       "      <td>21.01</td>\n",
       "      <td>3.50</td>\n",
       "      <td>Male</td>\n",
       "      <td>No</td>\n",
       "      <td>Sun</td>\n",
       "      <td>Dinner</td>\n",
       "      <td>3</td>\n",
       "    </tr>\n",
       "    <tr>\n",
       "      <th>3</th>\n",
       "      <td>23.68</td>\n",
       "      <td>3.31</td>\n",
       "      <td>Male</td>\n",
       "      <td>No</td>\n",
       "      <td>Sun</td>\n",
       "      <td>Dinner</td>\n",
       "      <td>2</td>\n",
       "    </tr>\n",
       "    <tr>\n",
       "      <th>4</th>\n",
       "      <td>24.59</td>\n",
       "      <td>3.61</td>\n",
       "      <td>Female</td>\n",
       "      <td>No</td>\n",
       "      <td>Sun</td>\n",
       "      <td>Dinner</td>\n",
       "      <td>4</td>\n",
       "    </tr>\n",
       "  </tbody>\n",
       "</table>\n",
       "</div>"
      ],
      "text/plain": [
       "   total_bill   tip     sex smoker  day    time  size\n",
       "0       16.99  1.01  Female     No  Sun  Dinner     2\n",
       "1       10.34  1.66    Male     No  Sun  Dinner     3\n",
       "2       21.01  3.50    Male     No  Sun  Dinner     3\n",
       "3       23.68  3.31    Male     No  Sun  Dinner     2\n",
       "4       24.59  3.61  Female     No  Sun  Dinner     4"
      ]
     },
     "execution_count": 8,
     "metadata": {},
     "output_type": "execute_result"
    }
   ],
   "source": [
    "import pandas as pd\n",
    "\n",
    "df = pd.read_csv(\"./tips.txt\")\n",
    "df.head()"
   ]
  },
  {
   "cell_type": "code",
   "execution_count": 9,
   "id": "eac79499",
   "metadata": {},
   "outputs": [
    {
     "data": {
      "text/html": [
       "<div>\n",
       "<style scoped>\n",
       "    .dataframe tbody tr th:only-of-type {\n",
       "        vertical-align: middle;\n",
       "    }\n",
       "\n",
       "    .dataframe tbody tr th {\n",
       "        vertical-align: top;\n",
       "    }\n",
       "\n",
       "    .dataframe thead th {\n",
       "        text-align: right;\n",
       "    }\n",
       "</style>\n",
       "<table border=\"1\" class=\"dataframe\">\n",
       "  <thead>\n",
       "    <tr style=\"text-align: right;\">\n",
       "      <th></th>\n",
       "      <th>total_bill</th>\n",
       "      <th>tip</th>\n",
       "      <th>sex</th>\n",
       "      <th>smoker</th>\n",
       "      <th>day</th>\n",
       "      <th>time</th>\n",
       "      <th>size</th>\n",
       "    </tr>\n",
       "  </thead>\n",
       "  <tbody>\n",
       "    <tr>\n",
       "      <th>220</th>\n",
       "      <td>12.16</td>\n",
       "      <td>2.20</td>\n",
       "      <td>Male</td>\n",
       "      <td>Yes</td>\n",
       "      <td>Fri</td>\n",
       "      <td>Lunch</td>\n",
       "      <td>2</td>\n",
       "    </tr>\n",
       "    <tr>\n",
       "      <th>222</th>\n",
       "      <td>8.58</td>\n",
       "      <td>1.92</td>\n",
       "      <td>Male</td>\n",
       "      <td>Yes</td>\n",
       "      <td>Fri</td>\n",
       "      <td>Lunch</td>\n",
       "      <td>1</td>\n",
       "    </tr>\n",
       "    <tr>\n",
       "      <th>224</th>\n",
       "      <td>13.42</td>\n",
       "      <td>1.58</td>\n",
       "      <td>Male</td>\n",
       "      <td>Yes</td>\n",
       "      <td>Fri</td>\n",
       "      <td>Lunch</td>\n",
       "      <td>2</td>\n",
       "    </tr>\n",
       "  </tbody>\n",
       "</table>\n",
       "</div>"
      ],
      "text/plain": [
       "     total_bill   tip   sex smoker  day   time  size\n",
       "220       12.16  2.20  Male    Yes  Fri  Lunch     2\n",
       "222        8.58  1.92  Male    Yes  Fri  Lunch     1\n",
       "224       13.42  1.58  Male    Yes  Fri  Lunch     2"
      ]
     },
     "execution_count": 9,
     "metadata": {},
     "output_type": "execute_result"
    }
   ],
   "source": [
    "view = df[(df[\"sex\"] == \"Male\") & (df[\"smoker\"] == \"Yes\") & (df[\"day\"] == \"Fri\") & (df[\"time\"] == \"Lunch\")]\n",
    "view"
   ]
  },
  {
   "cell_type": "code",
   "execution_count": 10,
   "id": "fb05a9dc",
   "metadata": {},
   "outputs": [
    {
     "name": "stdout",
     "output_type": "stream",
     "text": [
      "В среднем полный счет по пятницам у курящих мужчин составляет 11.386666666666668\n"
     ]
    }
   ],
   "source": [
    "m = view[\"total_bill\"].mean()\n",
    "\n",
    "print('В среднем полный счет по пятницам у курящих мужчин составляет', m)"
   ]
  },
  {
   "cell_type": "markdown",
   "id": "3288c31b",
   "metadata": {},
   "source": [
    "**2)** Загрузите iris и посмотрите разбросы по всем числовым значениям для всех трёх классов цветов (датасет iris)"
   ]
  },
  {
   "cell_type": "code",
   "execution_count": 11,
   "id": "2f61a6f0",
   "metadata": {},
   "outputs": [
    {
     "data": {
      "text/html": [
       "<div>\n",
       "<style scoped>\n",
       "    .dataframe tbody tr th:only-of-type {\n",
       "        vertical-align: middle;\n",
       "    }\n",
       "\n",
       "    .dataframe tbody tr th {\n",
       "        vertical-align: top;\n",
       "    }\n",
       "\n",
       "    .dataframe thead th {\n",
       "        text-align: right;\n",
       "    }\n",
       "</style>\n",
       "<table border=\"1\" class=\"dataframe\">\n",
       "  <thead>\n",
       "    <tr style=\"text-align: right;\">\n",
       "      <th></th>\n",
       "      <th>SepalLength</th>\n",
       "      <th>SepalWidth</th>\n",
       "      <th>PetalLength</th>\n",
       "      <th>PetalWidth</th>\n",
       "      <th>Name</th>\n",
       "    </tr>\n",
       "  </thead>\n",
       "  <tbody>\n",
       "    <tr>\n",
       "      <th>0</th>\n",
       "      <td>5.1</td>\n",
       "      <td>3.5</td>\n",
       "      <td>1.4</td>\n",
       "      <td>0.2</td>\n",
       "      <td>Iris-setosa</td>\n",
       "    </tr>\n",
       "    <tr>\n",
       "      <th>1</th>\n",
       "      <td>4.9</td>\n",
       "      <td>3.0</td>\n",
       "      <td>1.4</td>\n",
       "      <td>0.2</td>\n",
       "      <td>Iris-setosa</td>\n",
       "    </tr>\n",
       "    <tr>\n",
       "      <th>2</th>\n",
       "      <td>4.7</td>\n",
       "      <td>3.2</td>\n",
       "      <td>1.3</td>\n",
       "      <td>0.2</td>\n",
       "      <td>Iris-setosa</td>\n",
       "    </tr>\n",
       "    <tr>\n",
       "      <th>3</th>\n",
       "      <td>4.6</td>\n",
       "      <td>3.1</td>\n",
       "      <td>1.5</td>\n",
       "      <td>0.2</td>\n",
       "      <td>Iris-setosa</td>\n",
       "    </tr>\n",
       "    <tr>\n",
       "      <th>4</th>\n",
       "      <td>5.0</td>\n",
       "      <td>3.6</td>\n",
       "      <td>1.4</td>\n",
       "      <td>0.2</td>\n",
       "      <td>Iris-setosa</td>\n",
       "    </tr>\n",
       "  </tbody>\n",
       "</table>\n",
       "</div>"
      ],
      "text/plain": [
       "   SepalLength  SepalWidth  PetalLength  PetalWidth         Name\n",
       "0          5.1         3.5          1.4         0.2  Iris-setosa\n",
       "1          4.9         3.0          1.4         0.2  Iris-setosa\n",
       "2          4.7         3.2          1.3         0.2  Iris-setosa\n",
       "3          4.6         3.1          1.5         0.2  Iris-setosa\n",
       "4          5.0         3.6          1.4         0.2  Iris-setosa"
      ]
     },
     "execution_count": 11,
     "metadata": {},
     "output_type": "execute_result"
    }
   ],
   "source": [
    "iris_df = pd.read_csv(\"./iris.txt\")\n",
    "iris_df.head()"
   ]
  },
  {
   "cell_type": "code",
   "execution_count": 12,
   "id": "9c46e672",
   "metadata": {},
   "outputs": [
    {
     "data": {
      "text/plain": [
       "Iris-setosa        50\n",
       "Iris-versicolor    50\n",
       "Iris-virginica     50\n",
       "Name: Name, dtype: int64"
      ]
     },
     "execution_count": 12,
     "metadata": {},
     "output_type": "execute_result"
    }
   ],
   "source": [
    "iris_df[\"Name\"].value_counts()"
   ]
  },
  {
   "cell_type": "code",
   "execution_count": 13,
   "id": "b41c9b1f",
   "metadata": {},
   "outputs": [
    {
     "name": "stdout",
     "output_type": "stream",
     "text": [
      "Iris-setosa SepalLength :  5.006 +/- 0.35248968721345136 or min =  4.3  max =  5.8\n",
      "Iris-setosa SepalWidth :  3.418 +/- 0.38102439795469095 or min =  2.3  max =  4.4\n",
      "Iris-setosa PetalLength :  1.464 +/- 0.17351115943644546 or min =  1.0  max =  1.9\n",
      "Iris-setosa PetalWidth :  0.244 +/- 0.1072095030816784 or min =  0.1  max =  0.6\n",
      "\n",
      "Iris-versicolor SepalLength :  5.936 +/- 0.5161711470638634 or min =  4.9  max =  7.0\n",
      "Iris-versicolor SepalWidth :  2.7700000000000005 +/- 0.3137983233784114 or min =  2.0  max =  3.4\n",
      "Iris-versicolor PetalLength :  4.26 +/- 0.46991097723995795 or min =  3.0  max =  5.1\n",
      "Iris-versicolor PetalWidth :  1.3259999999999998 +/- 0.19775268000454405 or min =  1.0  max =  1.8\n",
      "\n",
      "Iris-virginica SepalLength :  6.587999999999998 +/- 0.6358795932744322 or min =  4.9  max =  7.9\n",
      "Iris-virginica SepalWidth :  2.974 +/- 0.32249663817263746 or min =  2.2  max =  3.8\n",
      "Iris-virginica PetalLength :  5.5520000000000005 +/- 0.5518946956639834 or min =  4.5  max =  6.9\n",
      "Iris-virginica PetalWidth :  2.0260000000000002 +/- 0.2746500556366674 or min =  1.4  max =  2.5\n",
      "\n"
     ]
    }
   ],
   "source": [
    "iris_names = iris_df.Name.unique().tolist()\n",
    "numeric_columns = iris_df.columns.values[0:4].tolist()\n",
    "\n",
    "for name in iris_names:\n",
    "    iris_type = iris_df[iris_df[\"Name\"] == name]\n",
    "    for column in numeric_columns:\n",
    "        mean = iris_type[column].mean()\n",
    "        std = iris_type[column].std()\n",
    "        minimum = iris_type[column].min()\n",
    "        maximum = iris_type[column].max()\n",
    "        print(name, column,': ', mean, '+/-', std, 'or min = ', minimum, ' max = ', maximum)\n",
    "    print()"
   ]
  },
  {
   "cell_type": "markdown",
   "id": "e11da016",
   "metadata": {},
   "source": [
    "Или так:"
   ]
  },
  {
   "cell_type": "code",
   "execution_count": 14,
   "id": "e5264b8e",
   "metadata": {},
   "outputs": [
    {
     "name": "stdout",
     "output_type": "stream",
     "text": [
      "Iris-setosa ********************\n",
      "SepalLength\n",
      "count    50.00000\n",
      "mean      5.00600\n",
      "std       0.35249\n",
      "min       4.30000\n",
      "25%       4.80000\n",
      "50%       5.00000\n",
      "75%       5.20000\n",
      "max       5.80000\n",
      "Name: SepalLength, dtype: float64\n",
      "SepalWidth\n",
      "count    50.000000\n",
      "mean      3.418000\n",
      "std       0.381024\n",
      "min       2.300000\n",
      "25%       3.125000\n",
      "50%       3.400000\n",
      "75%       3.675000\n",
      "max       4.400000\n",
      "Name: SepalWidth, dtype: float64\n",
      "PetalLength\n",
      "count    50.000000\n",
      "mean      1.464000\n",
      "std       0.173511\n",
      "min       1.000000\n",
      "25%       1.400000\n",
      "50%       1.500000\n",
      "75%       1.575000\n",
      "max       1.900000\n",
      "Name: PetalLength, dtype: float64\n",
      "PetalWidth\n",
      "count    50.00000\n",
      "mean      0.24400\n",
      "std       0.10721\n",
      "min       0.10000\n",
      "25%       0.20000\n",
      "50%       0.20000\n",
      "75%       0.30000\n",
      "max       0.60000\n",
      "Name: PetalWidth, dtype: float64\n",
      "Iris-versicolor ********************\n",
      "SepalLength\n",
      "count    50.000000\n",
      "mean      5.936000\n",
      "std       0.516171\n",
      "min       4.900000\n",
      "25%       5.600000\n",
      "50%       5.900000\n",
      "75%       6.300000\n",
      "max       7.000000\n",
      "Name: SepalLength, dtype: float64\n",
      "SepalWidth\n",
      "count    50.000000\n",
      "mean      2.770000\n",
      "std       0.313798\n",
      "min       2.000000\n",
      "25%       2.525000\n",
      "50%       2.800000\n",
      "75%       3.000000\n",
      "max       3.400000\n",
      "Name: SepalWidth, dtype: float64\n",
      "PetalLength\n",
      "count    50.000000\n",
      "mean      4.260000\n",
      "std       0.469911\n",
      "min       3.000000\n",
      "25%       4.000000\n",
      "50%       4.350000\n",
      "75%       4.600000\n",
      "max       5.100000\n",
      "Name: PetalLength, dtype: float64\n",
      "PetalWidth\n",
      "count    50.000000\n",
      "mean      1.326000\n",
      "std       0.197753\n",
      "min       1.000000\n",
      "25%       1.200000\n",
      "50%       1.300000\n",
      "75%       1.500000\n",
      "max       1.800000\n",
      "Name: PetalWidth, dtype: float64\n",
      "Iris-virginica ********************\n",
      "SepalLength\n",
      "count    50.00000\n",
      "mean      6.58800\n",
      "std       0.63588\n",
      "min       4.90000\n",
      "25%       6.22500\n",
      "50%       6.50000\n",
      "75%       6.90000\n",
      "max       7.90000\n",
      "Name: SepalLength, dtype: float64\n",
      "SepalWidth\n",
      "count    50.000000\n",
      "mean      2.974000\n",
      "std       0.322497\n",
      "min       2.200000\n",
      "25%       2.800000\n",
      "50%       3.000000\n",
      "75%       3.175000\n",
      "max       3.800000\n",
      "Name: SepalWidth, dtype: float64\n",
      "PetalLength\n",
      "count    50.000000\n",
      "mean      5.552000\n",
      "std       0.551895\n",
      "min       4.500000\n",
      "25%       5.100000\n",
      "50%       5.550000\n",
      "75%       5.875000\n",
      "max       6.900000\n",
      "Name: PetalLength, dtype: float64\n",
      "PetalWidth\n",
      "count    50.00000\n",
      "mean      2.02600\n",
      "std       0.27465\n",
      "min       1.40000\n",
      "25%       1.80000\n",
      "50%       2.00000\n",
      "75%       2.30000\n",
      "max       2.50000\n",
      "Name: PetalWidth, dtype: float64\n"
     ]
    }
   ],
   "source": [
    "for name in iris_names:\n",
    "    iris_type = iris_df[iris_df[\"Name\"] == name]\n",
    "    print(name, '*'*20)\n",
    "    for column in numeric_columns:\n",
    "        print(column)\n",
    "        print(iris_type[column].describe())\n",
    "    "
   ]
  },
  {
   "cell_type": "markdown",
   "id": "8648c452",
   "metadata": {},
   "source": [
    "**3)** Создайте новый столбец с плотностью населения. Переименуйте названия первого и третьего столбца на русский язык"
   ]
  },
  {
   "cell_type": "code",
   "execution_count": 15,
   "id": "2e61f047",
   "metadata": {},
   "outputs": [
    {
     "data": {
      "text/html": [
       "<div>\n",
       "<style scoped>\n",
       "    .dataframe tbody tr th:only-of-type {\n",
       "        vertical-align: middle;\n",
       "    }\n",
       "\n",
       "    .dataframe tbody tr th {\n",
       "        vertical-align: top;\n",
       "    }\n",
       "\n",
       "    .dataframe thead th {\n",
       "        text-align: right;\n",
       "    }\n",
       "</style>\n",
       "<table border=\"1\" class=\"dataframe\">\n",
       "  <thead>\n",
       "    <tr style=\"text-align: right;\">\n",
       "      <th></th>\n",
       "      <th>country</th>\n",
       "      <th>population</th>\n",
       "      <th>square</th>\n",
       "    </tr>\n",
       "  </thead>\n",
       "  <tbody>\n",
       "    <tr>\n",
       "      <th>0</th>\n",
       "      <td>Kazakhstan</td>\n",
       "      <td>17.04</td>\n",
       "      <td>2724902</td>\n",
       "    </tr>\n",
       "    <tr>\n",
       "      <th>1</th>\n",
       "      <td>Russia</td>\n",
       "      <td>143.50</td>\n",
       "      <td>17125191</td>\n",
       "    </tr>\n",
       "    <tr>\n",
       "      <th>2</th>\n",
       "      <td>Belarus</td>\n",
       "      <td>9.50</td>\n",
       "      <td>207600</td>\n",
       "    </tr>\n",
       "    <tr>\n",
       "      <th>3</th>\n",
       "      <td>Ukraine</td>\n",
       "      <td>45.50</td>\n",
       "      <td>603628</td>\n",
       "    </tr>\n",
       "  </tbody>\n",
       "</table>\n",
       "</div>"
      ],
      "text/plain": [
       "      country  population    square\n",
       "0  Kazakhstan       17.04   2724902\n",
       "1      Russia      143.50  17125191\n",
       "2     Belarus        9.50    207600\n",
       "3     Ukraine       45.50    603628"
      ]
     },
     "execution_count": 15,
     "metadata": {},
     "output_type": "execute_result"
    }
   ],
   "source": [
    "country_df = pd.DataFrame({\n",
    "     'country': ['Kazakhstan', 'Russia', 'Belarus', 'Ukraine'],\n",
    "     'population': [17.04, 143.5, 9.5, 45.5],\n",
    "     'square': [2724902, 17125191, 207600, 603628]\n",
    " })\n",
    "\n",
    "country_df.head()"
   ]
  },
  {
   "cell_type": "code",
   "execution_count": 16,
   "id": "7b00c5f8",
   "metadata": {},
   "outputs": [
    {
     "data": {
      "text/html": [
       "<div>\n",
       "<style scoped>\n",
       "    .dataframe tbody tr th:only-of-type {\n",
       "        vertical-align: middle;\n",
       "    }\n",
       "\n",
       "    .dataframe tbody tr th {\n",
       "        vertical-align: top;\n",
       "    }\n",
       "\n",
       "    .dataframe thead th {\n",
       "        text-align: right;\n",
       "    }\n",
       "</style>\n",
       "<table border=\"1\" class=\"dataframe\">\n",
       "  <thead>\n",
       "    <tr style=\"text-align: right;\">\n",
       "      <th></th>\n",
       "      <th>Страна</th>\n",
       "      <th>population</th>\n",
       "      <th>Площадь</th>\n",
       "      <th>density</th>\n",
       "    </tr>\n",
       "  </thead>\n",
       "  <tbody>\n",
       "    <tr>\n",
       "      <th>0</th>\n",
       "      <td>Kazakhstan</td>\n",
       "      <td>17.04</td>\n",
       "      <td>2724902</td>\n",
       "      <td>6.253436</td>\n",
       "    </tr>\n",
       "    <tr>\n",
       "      <th>1</th>\n",
       "      <td>Russia</td>\n",
       "      <td>143.50</td>\n",
       "      <td>17125191</td>\n",
       "      <td>8.379469</td>\n",
       "    </tr>\n",
       "    <tr>\n",
       "      <th>2</th>\n",
       "      <td>Belarus</td>\n",
       "      <td>9.50</td>\n",
       "      <td>207600</td>\n",
       "      <td>45.761079</td>\n",
       "    </tr>\n",
       "    <tr>\n",
       "      <th>3</th>\n",
       "      <td>Ukraine</td>\n",
       "      <td>45.50</td>\n",
       "      <td>603628</td>\n",
       "      <td>75.377550</td>\n",
       "    </tr>\n",
       "  </tbody>\n",
       "</table>\n",
       "</div>"
      ],
      "text/plain": [
       "       Страна  population   Площадь    density\n",
       "0  Kazakhstan       17.04   2724902   6.253436\n",
       "1      Russia      143.50  17125191   8.379469\n",
       "2     Belarus        9.50    207600  45.761079\n",
       "3     Ukraine       45.50    603628  75.377550"
      ]
     },
     "execution_count": 16,
     "metadata": {},
     "output_type": "execute_result"
    }
   ],
   "source": [
    "country_df['density'] = (country_df.population * 1000000) / country_df.square\n",
    "country_df = country_df.rename({'country': 'Страна', 'square': 'Площадь' }, axis=1)\n",
    "\n",
    "country_df.head()"
   ]
  }
 ],
 "metadata": {
  "kernelspec": {
   "display_name": "Python 3 (ipykernel)",
   "language": "python",
   "name": "python3"
  },
  "language_info": {
   "codemirror_mode": {
    "name": "ipython",
    "version": 3
   },
   "file_extension": ".py",
   "mimetype": "text/x-python",
   "name": "python",
   "nbconvert_exporter": "python",
   "pygments_lexer": "ipython3",
   "version": "3.9.8"
  }
 },
 "nbformat": 4,
 "nbformat_minor": 5
}
