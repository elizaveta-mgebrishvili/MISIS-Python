{
 "cells": [
  {
   "cell_type": "markdown",
   "id": "c90745e6",
   "metadata": {},
   "source": [
    "### Задача 1 Связанные списки\n",
    "Напишите функцию (пусть она будет называться **reverse_linked_list**), которая разворачивает связный список. На вход она принимает головную ноду, а на выход отдаёт хвостовую ноду исходного списка, но только теперь если попробовать пройтись по ней, она будет новой головной. "
   ]
  },
  {
   "cell_type": "code",
   "execution_count": 1,
   "id": "371d99e0",
   "metadata": {},
   "outputs": [],
   "source": [
    "class Node(object):\n",
    "    def __init__(self, value=None, next_node=None):\n",
    "        self.value = value\n",
    "        self.next = next_node\n",
    "\n",
    "    def __str__(self):\n",
    "        return f\"[Node with value {self.value}]\"\n",
    "\n",
    "def print_linked_list(head):\n",
    "    cur = head\n",
    "    while cur is not None:\n",
    "        print(cur)\n",
    "        cur = cur.next"
   ]
  },
  {
   "cell_type": "code",
   "execution_count": 2,
   "id": "94be97cb",
   "metadata": {},
   "outputs": [],
   "source": [
    "def reverse_linked_list(head):\n",
    "    cur = head\n",
    "    new = None\n",
    "    while cur is not None:\n",
    "        new = Node(cur.value, new)\n",
    "        cur = cur.next\n",
    "    return new"
   ]
  },
  {
   "cell_type": "code",
   "execution_count": 3,
   "id": "7435282a",
   "metadata": {},
   "outputs": [],
   "source": [
    "h, a, b, c, d = Node(7), Node(2), Node(3), Node(6), Node(5)\n",
    "\n",
    "h.next = a\n",
    "a.next = b\n",
    "b.next = c\n",
    "c.next = d"
   ]
  },
  {
   "cell_type": "code",
   "execution_count": 4,
   "id": "29257fb4",
   "metadata": {},
   "outputs": [
    {
     "name": "stdout",
     "output_type": "stream",
     "text": [
      "[Node with value 7]\n",
      "[Node with value 2]\n",
      "[Node with value 3]\n",
      "[Node with value 6]\n",
      "[Node with value 5]\n",
      "---\n",
      "[Node with value 5]\n",
      "[Node with value 6]\n",
      "[Node with value 3]\n",
      "[Node with value 2]\n",
      "[Node with value 7]\n"
     ]
    }
   ],
   "source": [
    "print_linked_list(h)\n",
    "h = reverse_linked_list(h)\n",
    "print(\"---\")\n",
    "print_linked_list(h)"
   ]
  },
  {
   "cell_type": "markdown",
   "id": "3511c0c6",
   "metadata": {},
   "source": [
    "### Задача 2 Пузырьки\n",
    "Сортировка пузырьком.\n",
    "Вам предлагается написать функцию, которая будет на вход получать голову несортированного связного списка, а на выход возвращать голову отсортированного."
   ]
  },
  {
   "cell_type": "markdown",
   "id": "891de3ca",
   "metadata": {},
   "source": [
    "Пример реализации сортировки пузырьком:"
   ]
  },
  {
   "cell_type": "code",
   "execution_count": 5,
   "id": "9fe70039",
   "metadata": {},
   "outputs": [
    {
     "name": "stdout",
     "output_type": "stream",
     "text": [
      "[0, 1, 1, 2, 2, 4]\n"
     ]
    }
   ],
   "source": [
    "l = [2, 4, 1, 1, 2, 0]\n",
    "\n",
    "for i in range(len(l)):\n",
    "    for j in range(i, len(l)):\n",
    "        if l[i] > l[j]:\n",
    "            l[i], l[j] = l[j], l[i]\n",
    "\n",
    "print(l)"
   ]
  },
  {
   "cell_type": "markdown",
   "id": "4e414cfd",
   "metadata": {},
   "source": [
    "Решение:"
   ]
  },
  {
   "cell_type": "code",
   "execution_count": 6,
   "id": "c96086e2",
   "metadata": {},
   "outputs": [],
   "source": [
    "def next_node(head, cur):\n",
    "    head2 = head\n",
    "    while head2 is not None:\n",
    "        if cur > head2.value:\n",
    "            cur, head2.value = head2.value, cur\n",
    "        head2 = head2.next\n",
    "    return cur\n",
    "\n",
    "def bubble_sort(head):\n",
    "    cur = head\n",
    "    while cur is not None:\n",
    "        cur.value = next_node(cur.next, cur.value)\n",
    "        cur = cur.next"
   ]
  },
  {
   "cell_type": "code",
   "execution_count": 10,
   "id": "6e3f2676",
   "metadata": {},
   "outputs": [
    {
     "name": "stdout",
     "output_type": "stream",
     "text": [
      "[Node with value 2]\n",
      "[Node with value 3]\n",
      "[Node with value 5]\n",
      "[Node with value 6]\n",
      "[Node with value 7]\n",
      "\n",
      "[Node with value 2]\n",
      "[Node with value 3]\n",
      "[Node with value 5]\n",
      "[Node with value 6]\n",
      "[Node with value 7]\n"
     ]
    }
   ],
   "source": [
    "print_linked_list(h)\n",
    "bubble_sort(h)\n",
    "print()\n",
    "print_linked_list(h)"
   ]
  },
  {
   "cell_type": "markdown",
   "id": "6485dd82",
   "metadata": {},
   "source": [
    "## Задание 3 я просто не успела сделать в срок, но обязательно сделаю"
   ]
  }
 ],
 "metadata": {
  "kernelspec": {
   "display_name": "Python 3 (ipykernel)",
   "language": "python",
   "name": "python3"
  },
  "language_info": {
   "codemirror_mode": {
    "name": "ipython",
    "version": 3
   },
   "file_extension": ".py",
   "mimetype": "text/x-python",
   "name": "python",
   "nbconvert_exporter": "python",
   "pygments_lexer": "ipython3",
   "version": "3.9.8"
  }
 },
 "nbformat": 4,
 "nbformat_minor": 5
}
