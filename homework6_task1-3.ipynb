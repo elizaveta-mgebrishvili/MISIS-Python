{
 "cells": [
  {
   "cell_type": "markdown",
   "id": "9ec45531",
   "metadata": {},
   "source": [
    "### Задача 1.\n",
    "\n",
    "Напишите программу с классом Student, в котором есть три атрибута: name, groupNumber и age. \n",
    "\n",
    "По умолчанию name = Ivan, age = 18, groupNumber = 10A. \n",
    "\n",
    "Необходимо создать пять методов: getName, getAge, getGroupNumber, setNameAge, setGroupNumber. \n",
    "\n",
    "Метод getName нужен для получения данных об имени конкретного студента, метод getAge нужен для получения данных о возрасте конкретного студента, vетод setGroupNumberнужен для получения данных о номере группы конкретного студента. \n",
    "\n",
    "Метод SetNameAge позволяет изменить данные атрибутов установленных по умолчанию, метод setGroupNumber позволяет изменить номер группы установленный по умолчанию. \n",
    "\n",
    "В программе необходимо создать пять экземпляров класса Student, установить им разные имена, возраст и номер группы."
   ]
  },
  {
   "cell_type": "code",
   "execution_count": 7,
   "id": "e130d896",
   "metadata": {},
   "outputs": [],
   "source": [
    "class Student:\n",
    "    def __init__(self, name = 'Ivan', age = 18, groupNumber = '10A'):\n",
    "        self.name = name\n",
    "        self.age = age\n",
    "        self.groupNumber = groupNumber\n",
    "        \n",
    "    def getName (self):\n",
    "        return self.name\n",
    "    \n",
    "    def getAge (self):\n",
    "        return self.age\n",
    "    \n",
    "    def getGroupNumber (self):\n",
    "        return self.groupNumber\n",
    "    \n",
    "    def setNameAge (self, new_name, new_age):\n",
    "        self.name = new_name\n",
    "        self.age = new_age\n",
    "        \n",
    "    def setGroupNumber (self, new_groupNumber):\n",
    "        self.groupNumber = new_groupNumber\n",
    "        \n",
    "    def getInfo(self):\n",
    "        print(f'Student: {self.name}, {self.age}, {self.groupNumber} group')\n",
    "        "
   ]
  },
  {
   "cell_type": "code",
   "execution_count": 8,
   "id": "a4c6879a",
   "metadata": {},
   "outputs": [],
   "source": [
    "IrinaShayk = Student(name = 'Irina', age = 18, groupNumber = '911A')\n",
    "IrinaSnake = Student('Irina', 118, 'Z00')\n",
    "AlbusDumbledore = Student('Albus', 166, '1G')\n",
    "IlonMask = Student('Ilon', 50, '5G')\n",
    "PaulAnka = Student('Paul', 1, '1L')"
   ]
  },
  {
   "cell_type": "code",
   "execution_count": 9,
   "id": "92f6875a",
   "metadata": {},
   "outputs": [
    {
     "name": "stdout",
     "output_type": "stream",
     "text": [
      "Student: Irina, 18, 911A group\n",
      "Student: Irina, 118, Z00 group\n",
      "Student: Albus, 166, 1G group\n",
      "Student: Ilon, 50, 5G group\n",
      "Student: Paul, 1, 1L group\n"
     ]
    }
   ],
   "source": [
    "IrinaShayk.getInfo()\n",
    "IrinaSnake.getInfo()\n",
    "AlbusDumbledore.getInfo()\n",
    "IlonMask.getInfo()\n",
    "PaulAnka.getInfo()"
   ]
  },
  {
   "cell_type": "code",
   "execution_count": 10,
   "id": "bc3c7a7a",
   "metadata": {},
   "outputs": [
    {
     "name": "stdout",
     "output_type": "stream",
     "text": [
      "Student: Paul, 80, 1LOVE group\n"
     ]
    }
   ],
   "source": [
    "PaulAnka.setGroupNumber('1LOVE')\n",
    "PaulAnka.setNameAge('Paul', 80)\n",
    "PaulAnka.getInfo()"
   ]
  },
  {
   "cell_type": "markdown",
   "id": "83ade02d",
   "metadata": {},
   "source": [
    "### Задача 2. \n",
    "\n",
    "Напишите программу с классом Car.\n",
    "\n",
    "Создайте конструктор класса Car.\n",
    "\n",
    "Создайте атрибуты класса Car — color (цвет), type (тип), year (год). \n",
    "\n",
    "Напишите пять методов:\n",
    "\n",
    "Первый — запуск автомобиля, при его вызове выводится сообщение «Автомобиль заведен». \n",
    "\n",
    "Второй — отключение автомобиля — выводит сообщение «Автомобиль заглушен».\n",
    "\n",
    "Третий — присвоение автомобилю года выпуска.\n",
    "\n",
    "Четвертый метод — присвоение автомобилю типа. \n",
    "\n",
    "Пятый — присвоение автомобилю цвета."
   ]
  },
  {
   "cell_type": "code",
   "execution_count": 11,
   "id": "4b93e22c",
   "metadata": {},
   "outputs": [],
   "source": [
    "class Car:\n",
    "    def __init__(self, color, type, year):\n",
    "        self.color = color\n",
    "        self.type = type\n",
    "        self.year = year\n",
    "        \n",
    "    def startCar (self):\n",
    "        print(\"Автомобиль заведен\")\n",
    "        \n",
    "    def stopCar (self):\n",
    "        print(\"Автомобиль заглушен\")\n",
    "    \n",
    "    def setColor (self, new_color):\n",
    "        self.color = new_color\n",
    "        \n",
    "    def setType (self, new_type):\n",
    "        self.type = new_type\n",
    "        \n",
    "    def setYear (self, new_year):\n",
    "        self.year = new_year\n",
    "        \n",
    "    def getInfo(self):\n",
    "        return print(f'Car: {self.color} color, {self.type} type, {self.year} year')\n",
    "        "
   ]
  },
  {
   "cell_type": "code",
   "execution_count": 14,
   "id": "5cbc4b94",
   "metadata": {},
   "outputs": [],
   "source": [
    "car1 = Car('red', 'A', 1980)\n",
    "car2 = Car('dark', 'B', 1960)\n",
    "car3 = Car('blue', 'C', 2020)\n",
    "car4 = Car('purple', 'D', 2010)\n",
    "car5 = Car('green', 'E', 1999)"
   ]
  },
  {
   "cell_type": "code",
   "execution_count": 15,
   "id": "25162ea1",
   "metadata": {},
   "outputs": [
    {
     "name": "stdout",
     "output_type": "stream",
     "text": [
      "Car: red color, A type, 1980 year\n",
      "Car: dark color, B type, 1960 year\n",
      "Car: blue color, C type, 2020 year\n",
      "Car: purple color, D type, 2010 year\n",
      "Car: green color, E type, 1999 year\n"
     ]
    }
   ],
   "source": [
    "car1.getInfo()\n",
    "car2.getInfo()\n",
    "car3.getInfo()\n",
    "car4.getInfo()\n",
    "car5.getInfo()"
   ]
  },
  {
   "cell_type": "code",
   "execution_count": 16,
   "id": "89891663",
   "metadata": {},
   "outputs": [
    {
     "name": "stdout",
     "output_type": "stream",
     "text": [
      "Car: gray color, W type, 1880 year\n"
     ]
    }
   ],
   "source": [
    "car1.setColor('gray')\n",
    "car1.setType('W')\n",
    "car1.setYear(1880)\n",
    "car1.getInfo()"
   ]
  },
  {
   "cell_type": "markdown",
   "id": "fd23aefa",
   "metadata": {},
   "source": [
    "### Задача 3. \n",
    "Допишите функцию Nutrionm"
   ]
  },
  {
   "cell_type": "code",
   "execution_count": 1,
   "id": "23595e5c",
   "metadata": {},
   "outputs": [],
   "source": [
    "class NutritionInfo:\n",
    "    def __init__(self, proteins, carbs, fats):\n",
    "        self.proteins = proteins\n",
    "        self.carbs = carbs\n",
    "        self.fats = fats\n",
    "    \n",
    "    def __add__(self, other):\n",
    "        return NutritionInfo(self.proteins + other.proteins, self.carbs + other.carbs, self.fats + other.fats)\n",
    "    \n",
    "    def __str__(self):\n",
    "        return f\"Nutrition p {self.proteins}, c {self.carbs}, f {self.fats}\"\n",
    "    \n",
    "    def __mul__(self, val):\n",
    "        return NutritionInfo(int(self.proteins * val), int(self.carbs * val), int(self.fats * val))\n",
    "        \n",
    "    def energy(self):\n",
    "        return int(self.fats * 9 + (self.carbs + self.proteins) * 4.2)"
   ]
  },
  {
   "cell_type": "code",
   "execution_count": 2,
   "id": "40da228b",
   "metadata": {},
   "outputs": [
    {
     "name": "stdout",
     "output_type": "stream",
     "text": [
      "Nutrition p 2, c 4, f 6\n"
     ]
    }
   ],
   "source": [
    "egg = NutritionInfo(1, 2, 3)\n",
    "pastila = NutritionInfo(1, 2, 3)\n",
    "tvorog_9 = NutritionInfo(18, 3, 9)\n",
    "apple = NutritionInfo(0, 25, 0)\n",
    "\n",
    "print(egg + pastila)"
   ]
  },
  {
   "cell_type": "code",
   "execution_count": 5,
   "id": "84b73af9",
   "metadata": {},
   "outputs": [
    {
     "name": "stdout",
     "output_type": "stream",
     "text": [
      "Nutrition p 0, c 75, f 0\n"
     ]
    }
   ],
   "source": [
    "breakfast = apple * 3\n",
    "print(breakfast)"
   ]
  }
 ],
 "metadata": {
  "kernelspec": {
   "display_name": "Python 3 (ipykernel)",
   "language": "python",
   "name": "python3"
  },
  "language_info": {
   "codemirror_mode": {
    "name": "ipython",
    "version": 3
   },
   "file_extension": ".py",
   "mimetype": "text/x-python",
   "name": "python",
   "nbconvert_exporter": "python",
   "pygments_lexer": "ipython3",
   "version": "3.9.8"
  }
 },
 "nbformat": 4,
 "nbformat_minor": 5
}
